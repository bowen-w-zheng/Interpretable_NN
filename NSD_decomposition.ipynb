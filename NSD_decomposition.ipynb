{
 "cells": [
  {
   "cell_type": "code",
   "execution_count": null,
   "metadata": {},
   "outputs": [],
   "source": [
    "\"\"\"\n",
    "Example script to show how to use the NN-based NMF model\"\"\"\n",
    "import numpy as np\n",
    "import matplotlib.pyplot as plt\n",
    "import torch\n",
    "from torch import nn\n",
    "from torch.utils.data import TensorDataset, DataLoader\n",
    "from sklearn.decomposition import NMF\n",
    "from src.network_factorization import NMFFC, get_residual_ratio, setup_model, train_NMFFC\n",
    "\n",
    "\n"
   ]
  },
  {
   "cell_type": "code",
   "execution_count": null,
   "metadata": {},
   "outputs": [],
   "source": [
    "# random matrix \n",
    "n_samples = 5000\n",
    "n_response_patterns = 100\n",
    "n_factors = 5\n",
    "n_epochs = 100\n",
    "n_batch_size = 10\n",
    "n_max_lr = 0.1\n",
    "n_l1_factor = 0.01\n",
    "X = np.random.rand(n_response_patterns, n_samples)\n",
    "\n",
    "model = setup_model(n_samples, n_response_patterns, n_factors, \"NMFFC\")\n",
    "train_NMFFC(model, X, n_epochs, n_max_lr, n_batch_size, n_l1_factor)\n"
   ]
  }
 ],
 "metadata": {
  "language_info": {
   "name": "python"
  },
  "orig_nbformat": 4
 },
 "nbformat": 4,
 "nbformat_minor": 2
}
